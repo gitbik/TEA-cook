{
 "cells": [
  {
   "attachments": {},
   "cell_type": "markdown",
   "metadata": {},
   "source": [
    "## Simplifying State-wise Electricity Tariff\n",
    "\n",
    "This simplification is being done for the electric cooking analysis.\n",
    "\n",
    "Following are the assumptions:\n",
    "1) BoP Consumer prices are for bottom of the pyramid / marginalized consumers.\n",
    "2) Each state is assumed to have one distribution utility. If there are multiple utilities within the same state, the slab-wise average is assumed to be the retail tariff price for the state.\n",
    "3) In order to maintain uniform slabs across the states and the country, each slab assumed is of 100 units. For e.g., first slab is 0-100 units, second slab is 101-200 units.\n",
    "4) For states having slabs less than 100 units, weighted average is considered for calculating the average slab-wise retail price.\n",
    "5) LIG - upto 200 units, MIG -  200 to 600 units, HIG - above 600 units"
   ]
  },
  {
   "attachments": {},
   "cell_type": "markdown",
   "metadata": {},
   "source": [
    "### 1. Importing Libraries"
   ]
  },
  {
   "cell_type": "code",
   "execution_count": 2,
   "metadata": {},
   "outputs": [],
   "source": [
    "import pandas as pd\n",
    "import numpy as np"
   ]
  },
  {
   "attachments": {},
   "cell_type": "markdown",
   "metadata": {},
   "source": [
    "### 2. Loading file"
   ]
  },
  {
   "cell_type": "code",
   "execution_count": 3,
   "metadata": {},
   "outputs": [],
   "source": [
    "etr1 = pd.read_excel('electric-tariff.xlsx')\n",
    "etr1.columns = etr1.iloc[1]\n",
    "etr1.drop(index = [0,1], inplace = True)\n",
    "etr1.reset_index(drop=True, inplace=True)\n",
    "#etr2 = etr2.drop(columns='index')\n",
    "#ethd1 = etr2.head()\n",
    "#ethd1"
   ]
  },
  {
   "attachments": {},
   "cell_type": "markdown",
   "metadata": {},
   "source": [
    "### 3. Removing unwanted columns"
   ]
  },
  {
   "cell_type": "code",
   "execution_count": 4,
   "metadata": {},
   "outputs": [],
   "source": [
    "etr1.drop(columns=['Name of DISCOMs', 'Area','Year','All Units (Higher Load/HT-Domestic)','Source'], inplace = True)#.reset_index()\n",
    "#etr4 = etr3.rename({'BPL/KJ-BJ Consumers/Rural/Life Line Connection':'BoP'}, axis = 1) #renaming BPL tariff to BoP consumer\n",
    "etr1.rename(columns={'Name of States':'State','BPL/KJ-BJ Consumers/Rural/Life Line Connection':'BoP'}, inplace=True)\n",
    "etr1.replace('Nil', np.nan, inplace = True)\n",
    "\n",
    "#ethd2 = etr4.head()\n",
    "#ethd2"
   ]
  },
  {
   "cell_type": "code",
   "execution_count": 5,
   "metadata": {},
   "outputs": [
    {
     "name": "stdout",
     "output_type": "stream",
     "text": [
      "float64\n",
      "float64\n"
     ]
    }
   ],
   "source": [
    "print(etr1['BoP'].dtype)\n",
    "print(etr1['0-50'].dtype)"
   ]
  },
  {
   "attachments": {},
   "cell_type": "markdown",
   "metadata": {},
   "source": [
    "### 4. Grouping by States for state-wise average slab-wise retail "
   ]
  },
  {
   "cell_type": "code",
   "execution_count": 6,
   "metadata": {},
   "outputs": [],
   "source": [
    "#etr4 = etr4.replace(['Nil', np.nan]) # replacing Nil values of BoP with NaN\n",
    "etr2 = etr1.groupby('State')[['BoP',\n",
    "       '0-50', '51-100', '0-100', '0-120', '0-150', '0-200', '101-150',\n",
    "       '101-250', '101-200', '121-240', '151-200', '151-250', '201-250',\n",
    "       '151-300', '201-300', '151-400', '301-400', '301-500', '401-500',\n",
    "       '201-500', '251-500', '401-600', '401-800', '601-900', '801-1200',\n",
    "       '101 & Above', '201 & Above', '251 & Above', '301 & Above',\n",
    "       '401 & Above', '501 & Above', '601 & Above', '801 & Above',\n",
    "       '901 & Above', '1201 & Above']].mean().round(2)\n"
   ]
  },
  {
   "cell_type": "code",
   "execution_count": null,
   "metadata": {},
   "outputs": [],
   "source": [
    "list(etr2.columns)"
   ]
  },
  {
   "attachments": {},
   "cell_type": "markdown",
   "metadata": {},
   "source": [
    "### 5. Recalibrating slabs to 100 units per slab"
   ]
  },
  {
   "cell_type": "code",
   "execution_count": 8,
   "metadata": {},
   "outputs": [],
   "source": [
    "etr2 = etr2.assign(sl1 =etr2[['0-50', '51-100']].mean(axis=1))\n",
    "etr2['0-100'].fillna(value=etr2['sl1'], inplace=True)\n",
    "etr2.drop(columns=['0-50','51-100','sl1'],inplace=True)\n",
    "\n",
    "etr2 = etr2.assign(sl2 =etr2[['0-100', '101-200']].mean(axis=1))\n",
    "etr2['0-200'].fillna(value=etr2['sl2'], inplace=True)\n",
    "etr2.drop(columns=['0-100', '101-200','sl2'],inplace = True)\n",
    "\n",
    "etr2 = etr2.assign(sl3 =etr2[['101-150', '151-200','201-250']].mean(axis=1))\n",
    "etr2['101-250'].fillna(value=etr2['sl3'], inplace=True)\n",
    "etr2.drop(columns=['101-150', '151-200','201-250'],inplace=True)\n",
    "\n",
    "etr2 = etr2.assign(sl4 =etr2[['201-300', '301-400','401-500']].mean(axis=1))\n",
    "etr2['201-500'].fillna(value=etr2['sl4'], inplace=True)\n",
    "etr2.drop(columns=['201-300', '301-400','401-500'],inplace=True)\n",
    "\n",
    "etr2 = etr2.assign(sl5 =etr2[['601 & Above','801 & Above','901 & Above', '1201 & Above']].mean(axis=1))\n",
    "etr2['601 & Above'].fillna(value=etr2['sl5'], inplace=True)\n",
    "etr2.drop(columns=['801 & Above','901 & Above', '1201 & Above'],inplace=True)\n",
    "\n",
    "etr2 = etr2.assign(sl6 =etr2[['151-250','151-300','151-400','301-500']].mean(axis=1))\n",
    "etr2['201-500'].fillna(value=etr2['sl6'], inplace=True)\n",
    "etr2.drop(columns=['151-250','151-300','151-400','301-500'],inplace=True)\n",
    "\n",
    "etr2 = etr2.assign(sl7 =etr2[['0-120','0-150']].mean(axis=1))\n",
    "etr2['0-200'].fillna(value=etr2['sl7'], inplace=True)\n",
    "etr2.drop(columns=['0-120','0-150'],inplace=True)\n",
    "\n",
    "etr2 = etr2.assign(sl8 =etr2[['101-250','121-240','201-500','251-500','401-600']].mean(axis=1))\n",
    "etr2['201-600'] = etr2['sl8']\n",
    "#etr2['201-600'].fillna(value=etr2['sl8'], inplace=True)\n",
    "etr2.drop(columns=['101-250','121-240','201-500','251-500','401-600'],inplace=True)\n",
    "\n",
    "etr2.drop(columns = ['sl3','sl4','sl5','sl6','sl7','sl8'],inplace=True)\n",
    "etr2.drop(columns = ['101 & Above','401-800','601-900','801-1200'],inplace=True)\n",
    "\n",
    "etr2 = etr2.assign(sl9 =etr2[['201 & Above','251 & Above', '301 & Above', '401 & Above', '501 & Above', '601 & Above']].mean(axis=1))\n",
    "etr2['601 & Above'].fillna(value=etr2['sl9'], inplace=True)\n",
    "etr2.drop(columns=['201 & Above','251 & Above','301 & Above','401 & Above','501 & Above','sl9'],inplace=True)"
   ]
  },
  {
   "cell_type": "markdown",
   "metadata": {},
   "source": [
    "### changing column positions"
   ]
  },
  {
   "cell_type": "code",
   "execution_count": 9,
   "metadata": {},
   "outputs": [],
   "source": [
    "cols = etr2.columns.tolist()\n",
    "cols.insert(2, cols.pop(cols.index('201-600')))\n",
    "etr2 = etr2[cols]"
   ]
  },
  {
   "cell_type": "code",
   "execution_count": null,
   "metadata": {},
   "outputs": [],
   "source": [
    "print(etr2.head())\n",
    "list(etr2.columns)\n",
    "#list(etr1.columns)"
   ]
  },
  {
   "attachments": {},
   "cell_type": "markdown",
   "metadata": {},
   "source": [
    "### Replacing missing values"
   ]
  },
  {
   "cell_type": "code",
   "execution_count": 14,
   "metadata": {},
   "outputs": [],
   "source": [
    "# Arunachal Pradesh\n",
    "etr2.iloc[2,1] = 4 #http://power.arunachal.gov.in/wp-content/uploads/2018/06/2018-06-15-Tariff-Order-FY-2018-19-.pdf\n",
    "etr2.iloc[2,2] = 4\n",
    "etr2.iloc[2,3] = 4\n",
    "#etr2.iloc[2,4] = 4\n",
    "\n",
    "# Assam\n",
    "etr2.iloc[3,0] = 4.65 # https://www.guwahatiplus.com/assam/apdcl-electricity-bills-to-increase-from-april-2022\n",
    "etr2.iloc[3,1] = 6.6\n",
    "etr2.iloc[3,2] = 7.6\n",
    "etr2.iloc[3,3] = 7.6\n",
    "\n",
    "#Bihar\n",
    "etr2.iloc[4,1] = 6.1\n",
    "etr2.iloc[4,2] = 6.4  #https://berc.co.in/orders/tariff/distribution/sbpdcl/2460-strong-span-style-color-000000-tariff-chart-for-fy-2022-23\n",
    "etr2.iloc[4,3] = 6.7\n",
    "\n",
    "#Jharkhand\n",
    "etr2.iloc[15,2] = 6  #same for all slabs - https://jbvnl.co.in/Tariff/Tariff_jseb_2019.pdf\n",
    "etr2.iloc[15,3] = 6\n",
    "\n",
    "#Karnataka\n",
    "etr2.iloc[16,2] = 7.9 #Tariff is applicable for 200 units and more\n",
    "\n",
    "#Manipur\n",
    "etr2.iloc[21,2] = 6.4 #Tariff is applicable for 200 units and more\n",
    "\n",
    "#Meghalaya \n",
    "etr2.iloc[22,2] = 5.7 #Tariff is applicable for 200 units and more\n",
    "\n",
    "#Mizoram\n",
    "etr2.iloc[23,2] = 5.9 #Tariff is applicable for 200 units and more\n",
    "\n",
    "etr2 = etr2.round(2)"
   ]
  },
  {
   "attachments": {},
   "cell_type": "markdown",
   "metadata": {},
   "source": [
    "### Saving to Excel file"
   ]
  },
  {
   "cell_type": "code",
   "execution_count": null,
   "metadata": {},
   "outputs": [],
   "source": [
    "print(etr2)"
   ]
  },
  {
   "cell_type": "code",
   "execution_count": null,
   "metadata": {},
   "outputs": [],
   "source": [
    "# Rename the columns\n",
    "etr3 = etr2.rename(columns={'0-200': 'Lower', '201-600':'Middle','601 & Above': 'Higher'})\n",
    "etr3 = etr3.replace('',np.nan)\n",
    "etr3.to_excel('el_price_rev.xlsx')\n",
    "print(etr3)\n"
   ]
  },
  {
   "cell_type": "code",
   "execution_count": 79,
   "metadata": {},
   "outputs": [
    {
     "name": "stdout",
     "output_type": "stream",
     "text": [
      "<class 'numpy.float64'>\n"
     ]
    }
   ],
   "source": [
    "el_price = pd.read_excel('el_price_rev.xlsx')\n",
    "value = el_price.at[32,'Middle']\n",
    "print(type(value))"
   ]
  },
  {
   "cell_type": "code",
   "execution_count": 33,
   "metadata": {},
   "outputs": [
    {
     "name": "stdout",
     "output_type": "stream",
     "text": [
      "Index(['State', 'BoP', 'Lower', 'Middle', 'Higher'], dtype='object')\n"
     ]
    }
   ],
   "source": [
    "el_price = pd.read_excel('el_price_rev.xlsx')\n",
    "print(el_price.columns)"
   ]
  },
  {
   "cell_type": "code",
   "execution_count": null,
   "metadata": {},
   "outputs": [],
   "source": [
    "soc_eco_select = 'Middle'\n",
    "state_1 = 'State'\n",
    "el_price2 = el_price[['State',soc_eco_select]]\n",
    "print(el_price2)"
   ]
  },
  {
   "cell_type": "code",
   "execution_count": 84,
   "metadata": {},
   "outputs": [
    {
     "name": "stdout",
     "output_type": "stream",
     "text": [
      "6.07\n"
     ]
    }
   ],
   "source": [
    "state_name = 'Tripura'\n",
    "el_price3 = el_price2.loc[el_price2['State']==state_name,soc_eco_select]\n",
    "print(el_price3.item())"
   ]
  }
 ],
 "metadata": {
  "kernelspec": {
   "display_name": "base",
   "language": "python",
   "name": "python3"
  },
  "language_info": {
   "codemirror_mode": {
    "name": "ipython",
    "version": 3
   },
   "file_extension": ".py",
   "mimetype": "text/x-python",
   "name": "python",
   "nbconvert_exporter": "python",
   "pygments_lexer": "ipython3",
   "version": "3.9.12"
  },
  "orig_nbformat": 4,
  "vscode": {
   "interpreter": {
    "hash": "51577cf1f5b8e8679036f2ce0e3ca6e1e53bf3ca9c66b55b425c67f01016bae2"
   }
  }
 },
 "nbformat": 4,
 "nbformat_minor": 2
}
