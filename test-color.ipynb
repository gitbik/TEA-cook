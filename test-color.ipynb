{
 "cells": [
  {
   "cell_type": "code",
   "execution_count": 1,
   "metadata": {},
   "outputs": [],
   "source": [
    "from functools import total_ordering\n",
    "import streamlit as st\n",
    "import pandas as pd\n",
    "import numpy as np\n",
    "from decimal import *\n",
    "import openpyxl"
   ]
  },
  {
   "cell_type": "code",
   "execution_count": 2,
   "metadata": {},
   "outputs": [],
   "source": [
    "state_name = pd.read_csv(\"states.csv\")\n",
    "el_price = pd.read_excel(\"el_price_rev-v2.xlsx\")\n",
    "el_price_n = pd.read_excel(\"el_price_rev_add.xlsx\") #with microgrid and solar rooftop\n",
    "usd_inr = 82.23 # 1 usd = 82.23 INR"
   ]
  },
  {
   "cell_type": "code",
   "execution_count": 5,
   "metadata": {},
   "outputs": [
    {
     "name": "stderr",
     "output_type": "stream",
     "text": [
      "/var/folders/my/_04ctykd2038d4bbkcv7bk980000gn/T/ipykernel_48641/48514849.py:6: UserWarning: Boolean Series key will be reindexed to match DataFrame index.\n",
      "  df_base_cf_st = df_base_cf2[mask_bf_stv].iloc[:,2]\n"
     ]
    }
   ],
   "source": [
    "df_base_cf = pd.read_excel(\"cook-fuel-stove.xlsx\",sheet_name=\"baseline\") ##area_select\n",
    "df_base_cf2 = df_base_cf.loc[(df_base_cf['Area'] == 'Rural') & (df_base_cf['Socio-Economic'] == 'Middle')]\n",
    "df_base_cf1 = df_base_cf2[\"Fuel\"].drop_duplicates()\n",
    "bpf_select = 'LPG'\n",
    "mask_bf_stv = df_base_cf['Fuel'].isin([bpf_select])\n",
    "df_base_cf_st = df_base_cf2[mask_bf_stv].iloc[:,2]"
   ]
  },
  {
   "cell_type": "code",
   "execution_count": 6,
   "metadata": {},
   "outputs": [
    {
     "name": "stderr",
     "output_type": "stream",
     "text": [
      "/var/folders/my/_04ctykd2038d4bbkcv7bk980000gn/T/ipykernel_48641/805956605.py:6: UserWarning: Boolean Series key will be reindexed to match DataFrame index.\n",
      "  df_elec_cf_st = df_elec_cf2[mask_ef_stv].iloc[:,2]\n"
     ]
    }
   ],
   "source": [
    "df_elec_cf = pd.read_excel(\"cook-fuel-stove.xlsx\",sheet_name=\"e-cooking\")\n",
    "df_elec_cf2 = df_elec_cf.loc[(df_elec_cf['Area'] == 'Rural') & (df_elec_cf['Socio-Economic'] == 'Middle')]\n",
    "df_elec_cf1 = df_elec_cf2[\"Fuel\"].drop_duplicates()\n",
    "epf_select = 'Grid electricity'\n",
    "mask_ef_stv = df_elec_cf['Fuel'].isin([epf_select])\n",
    "df_elec_cf_st = df_elec_cf2[mask_ef_stv].iloc[:,2]"
   ]
  },
  {
   "cell_type": "code",
   "execution_count": null,
   "metadata": {},
   "outputs": [],
   "source": []
  },
  {
   "cell_type": "code",
   "execution_count": null,
   "metadata": {},
   "outputs": [],
   "source": [
    "encons_var  = {'Variable':['Daily cooking duration', 'Hourly consumption', 'Daily consumption', 'Annual consumption','Unit carbon emission','Annual carbon emission'],\n",
    "\t'Units':['hours/day','kWh/hour','kWh/day','kWh/year','MtCO2eq./kWh','MtCO2eq./year'],\n",
    "\t'Baseline':\t[bs_dcd.round(2),bs_hc.round(2),bs_dc.round(2),(bs_dc * 365 * 0.9).round(2),bs_uce.round(2),bs_tce.round(2)],\n",
    "\t'e-Cooking':[el_dcd.round(2),el_hc,el_dc.round(2),el_ac.round(2),el_uce.round(2),el_tce.round(2)],\n",
    "\t'Delta':[(el_dcd - bs_dcd).round(2),(el_hc - bs_hc).round(2),(el_dc - bs_dc).round(2),(el_ac - bs_ac).round(2),(el_uce- bs_uce).round(2),(el_tce - bs_tce).round(2)]\n",
    "\t}\n",
    "\tdf_encons_var = pd.DataFrame(encons_var)\n",
    "\tdf_encons_var_round = df_encons_var.round(2)\n",
    "\t#st.dataframe(df_encons_var)\n",
    "\n",
    "# with st.expander('6\\) Results  \\- Energy Cost'):\n",
    "\t#baseline - energy cost\n",
    "\tbs_uc = df_base_cf4['Unit cost'].values[0] #unit cost\n",
    "\tbs_uc = np.array(bs_uc)\n",
    "\t#bs_opc = df_base_cf4['Opex'].values[0] #opex\n",
    "\tbs_opc = bs_uc * bs_ac\n",
    "\tbs_ovc = df_base_cf4['Overheads (Fuel)'].values[0] #overheads\n",
    "\tbs_etc = bs_opc + bs_ovc #total cost\n",
    "\tbs_scc = (86 * usd_inr * bs_tce).round(0) #social cost of carbon\n",
    "\n",
    "\t#electric cost\n",
    "\tel_price2 = el_price[['State',soc_eco_select]] #filtering dataframe\n",
    "\t#el_price3 = el_price2.loc[el_price2['State'] == state_select, soc_eco_select] #unit cost\n",
    "\n",
    "\t### revision to include microgrid and solar rooftop\n",
    "\t#el_price3_1 = el_price2.loc[el_price2['State'] == state_select,el_price2['Source'] == epf_select,soc_eco_select] #unit cost\n",
    "\tif epf_select == 'Microgrid':\n",
    "\t\tel_price3 = 20\n",
    "\t\tel_price3_1 = 20\n",
    "\telif epf_select == \"Solar rooftop\":\n",
    "\t\tel_price3 = 0\n",
    "\t\tel_price3_1 = 0\n",
    "\telse:\n",
    "\t\tel_price3 = el_price2.loc[el_price2['State'] == state_select, soc_eco_select].values #unit cost\n",
    "\t\t#el_price3 = el_price3.astype(np.float64)\n",
    "\t\tel_price3_1 = str(el_price3).replace(' [', '').replace('[', '').replace(']', '')\n",
    "\t\t#el_price3_list = el_price3.flatten().tolist()\n",
    "\t\t#el_price3 = el_price2.loc[el_price2['State'] == state_select, soc_eco_select].to_string #unit cost\n",
    "\n",
    "\t#st.markdown(type(el_price3))\n",
    "\t#st.markdown(type(el_ac))\n",
    "\t#st.markdown(str(el_price3).replace(' [', '').replace('[', '').replace(']', ''))\n",
    "\t#el_price_n1 = el_price_n['State',soc_eco_select] #filtering dataframe\n",
    "\t#el_uc_n2 = el_price4.item()\n",
    "\tel_uc = el_price3\n",
    "\tel_uc_1 = el_price3_1\n",
    "\t#el_uc = df_el_cf4['Unit cost'].values[0]\n",
    "\t#el_opc = df_el_cf4['Opex'].values[0] #opex\n",
    "\t#el_ac = np.array(el_ac)\n",
    "\tel_opc = el_uc * el_ac\n",
    "\tel_opc_1 = str(el_opc.round(2)).replace(' [', '').replace('[', '').replace(']', '')\n",
    "\tel_ovc = df_el_cf4['Overheads (Fuel)'].values[0] #overheads\n",
    "\tel_etc = el_opc + el_ovc #total operating cost\n",
    "\tel_etc_1 = str(el_etc.round(2)).replace(' [', '').replace('[', '').replace(']', '')\n",
    "\tel_scc = (86 * usd_inr * el_tce).round(0) #social cost of carbon\n",
    "\n",
    "\t#delta calc\n",
    "\td_uc = (el_uc - bs_uc).round(2)\n",
    "\td_uc1 = str(d_uc).replace(' [', '').replace('[', '').replace(']', '')\n",
    "\n",
    "\td_opc = (el_opc - bs_opc).round(2)\n",
    "\td_opc1 = str(d_opc).replace(' [', '').replace('[', '').replace(']', '')\n",
    "\n",
    "\td_etc = (el_etc - bs_etc).round(2)\n",
    "\td_etc1 = str(d_etc).replace(' [', '').replace('[', '').replace(']', '')\n",
    "\n",
    "\t#dataframe - energy cost\n",
    "\tencost_var  = {'Variable':['Unit cost', 'Opex', 'Overheads', 'Total operating cost','Social Carbon Cost'],\n",
    "\t'Units':['INR/kWh','INR/year','INR/year','INR/year','INR/year'],\n",
    "\t'Baseline':[bs_uc,bs_opc.round(2),bs_ovc,bs_etc.round(2),bs_scc],\n",
    "\t'e-Cooking':[el_uc_1,el_opc_1,el_ovc,el_etc_1,el_scc],\n",
    "\t'Delta':[d_uc1,d_opc1,(el_ovc - bs_ovc).round(2),d_etc1, (el_scc - bs_scc)]\n",
    "\t}\n",
    "\tdf_encost_var = pd.DataFrame(encost_var)\n",
    "\tdf_tcost = pd.concat([df_encons_var,df_encost_var], ignore_index=True)\n",
    "\tdf_tcost = df_tcost.astype(str)\n",
    "\t#df_tcost = df_tcost.applymap(lambda x: \"{:.2f}\".format(x))\n",
    "\t#st.write(df_tcost)\n",
    "\t\n",
    "\tsty_df_tcost = df_tcost.style.apply(highlight_negative, axis = 1)\n",
    "\t# st.dataframe(df_tcost)\n",
    "\tst.dataframe(sty_df_tcost)\n"
   ]
  },
  {
   "cell_type": "code",
   "execution_count": 11,
   "metadata": {},
   "outputs": [
    {
     "ename": "IndexingError",
     "evalue": "Too many indexers",
     "output_type": "error",
     "traceback": [
      "\u001b[0;31m---------------------------------------------------------------------------\u001b[0m",
      "\u001b[0;31mIndexingError\u001b[0m                             Traceback (most recent call last)",
      "File \u001b[0;32m~/.pyenv/versions/3.11.0/lib/python3.11/site-packages/IPython/core/formatters.py:342\u001b[0m, in \u001b[0;36mBaseFormatter.__call__\u001b[0;34m(self, obj)\u001b[0m\n\u001b[1;32m    340\u001b[0m     method \u001b[39m=\u001b[39m get_real_method(obj, \u001b[39mself\u001b[39m\u001b[39m.\u001b[39mprint_method)\n\u001b[1;32m    341\u001b[0m     \u001b[39mif\u001b[39;00m method \u001b[39mis\u001b[39;00m \u001b[39mnot\u001b[39;00m \u001b[39mNone\u001b[39;00m:\n\u001b[0;32m--> 342\u001b[0m         \u001b[39mreturn\u001b[39;00m method()\n\u001b[1;32m    343\u001b[0m     \u001b[39mreturn\u001b[39;00m \u001b[39mNone\u001b[39;00m\n\u001b[1;32m    344\u001b[0m \u001b[39melse\u001b[39;00m:\n",
      "File \u001b[0;32m~/.pyenv/versions/3.11.0/lib/python3.11/site-packages/pandas/io/formats/style.py:379\u001b[0m, in \u001b[0;36mStyler._repr_html_\u001b[0;34m(self)\u001b[0m\n\u001b[1;32m    374\u001b[0m \u001b[39m\"\"\"\u001b[39;00m\n\u001b[1;32m    375\u001b[0m \u001b[39mHooks into Jupyter notebook rich display system, which calls _repr_html_ by\u001b[39;00m\n\u001b[1;32m    376\u001b[0m \u001b[39mdefault if an object is returned at the end of a cell.\u001b[39;00m\n\u001b[1;32m    377\u001b[0m \u001b[39m\"\"\"\u001b[39;00m\n\u001b[1;32m    378\u001b[0m \u001b[39mif\u001b[39;00m get_option(\u001b[39m\"\u001b[39m\u001b[39mstyler.render.repr\u001b[39m\u001b[39m\"\u001b[39m) \u001b[39m==\u001b[39m \u001b[39m\"\u001b[39m\u001b[39mhtml\u001b[39m\u001b[39m\"\u001b[39m:\n\u001b[0;32m--> 379\u001b[0m     \u001b[39mreturn\u001b[39;00m \u001b[39mself\u001b[39;49m\u001b[39m.\u001b[39;49mto_html()\n\u001b[1;32m    380\u001b[0m \u001b[39mreturn\u001b[39;00m \u001b[39mNone\u001b[39;00m\n",
      "File \u001b[0;32m~/.pyenv/versions/3.11.0/lib/python3.11/site-packages/pandas/io/formats/style.py:1371\u001b[0m, in \u001b[0;36mStyler.to_html\u001b[0;34m(self, buf, table_uuid, table_attributes, sparse_index, sparse_columns, bold_headers, caption, max_rows, max_columns, encoding, doctype_html, exclude_styles, **kwargs)\u001b[0m\n\u001b[1;32m   1368\u001b[0m     obj\u001b[39m.\u001b[39mset_caption(caption)\n\u001b[1;32m   1370\u001b[0m \u001b[39m# Build HTML string..\u001b[39;00m\n\u001b[0;32m-> 1371\u001b[0m html \u001b[39m=\u001b[39m obj\u001b[39m.\u001b[39;49m_render_html(\n\u001b[1;32m   1372\u001b[0m     sparse_index\u001b[39m=\u001b[39;49msparse_index,\n\u001b[1;32m   1373\u001b[0m     sparse_columns\u001b[39m=\u001b[39;49msparse_columns,\n\u001b[1;32m   1374\u001b[0m     max_rows\u001b[39m=\u001b[39;49mmax_rows,\n\u001b[1;32m   1375\u001b[0m     max_cols\u001b[39m=\u001b[39;49mmax_columns,\n\u001b[1;32m   1376\u001b[0m     exclude_styles\u001b[39m=\u001b[39;49mexclude_styles,\n\u001b[1;32m   1377\u001b[0m     encoding\u001b[39m=\u001b[39;49mencoding \u001b[39mor\u001b[39;49;00m get_option(\u001b[39m\"\u001b[39;49m\u001b[39mstyler.render.encoding\u001b[39;49m\u001b[39m\"\u001b[39;49m),\n\u001b[1;32m   1378\u001b[0m     doctype_html\u001b[39m=\u001b[39;49mdoctype_html,\n\u001b[1;32m   1379\u001b[0m     \u001b[39m*\u001b[39;49m\u001b[39m*\u001b[39;49mkwargs,\n\u001b[1;32m   1380\u001b[0m )\n\u001b[1;32m   1382\u001b[0m \u001b[39mreturn\u001b[39;00m save_to_buffer(\n\u001b[1;32m   1383\u001b[0m     html, buf\u001b[39m=\u001b[39mbuf, encoding\u001b[39m=\u001b[39m(encoding \u001b[39mif\u001b[39;00m buf \u001b[39mis\u001b[39;00m \u001b[39mnot\u001b[39;00m \u001b[39mNone\u001b[39;00m \u001b[39melse\u001b[39;00m \u001b[39mNone\u001b[39;00m)\n\u001b[1;32m   1384\u001b[0m )\n",
      "File \u001b[0;32m~/.pyenv/versions/3.11.0/lib/python3.11/site-packages/pandas/io/formats/style_render.py:199\u001b[0m, in \u001b[0;36mStylerRenderer._render_html\u001b[0;34m(self, sparse_index, sparse_columns, max_rows, max_cols, **kwargs)\u001b[0m\n\u001b[1;32m    187\u001b[0m \u001b[39mdef\u001b[39;00m \u001b[39m_render_html\u001b[39m(\n\u001b[1;32m    188\u001b[0m     \u001b[39mself\u001b[39m,\n\u001b[1;32m    189\u001b[0m     sparse_index: \u001b[39mbool\u001b[39m,\n\u001b[0;32m   (...)\u001b[0m\n\u001b[1;32m    193\u001b[0m     \u001b[39m*\u001b[39m\u001b[39m*\u001b[39mkwargs,\n\u001b[1;32m    194\u001b[0m ) \u001b[39m-\u001b[39m\u001b[39m>\u001b[39m \u001b[39mstr\u001b[39m:\n\u001b[1;32m    195\u001b[0m     \u001b[39m\"\"\"\u001b[39;00m\n\u001b[1;32m    196\u001b[0m \u001b[39m    Renders the ``Styler`` including all applied styles to HTML.\u001b[39;00m\n\u001b[1;32m    197\u001b[0m \u001b[39m    Generates a dict with necessary kwargs passed to jinja2 template.\u001b[39;00m\n\u001b[1;32m    198\u001b[0m \u001b[39m    \"\"\"\u001b[39;00m\n\u001b[0;32m--> 199\u001b[0m     d \u001b[39m=\u001b[39m \u001b[39mself\u001b[39;49m\u001b[39m.\u001b[39;49m_render(sparse_index, sparse_columns, max_rows, max_cols, \u001b[39m\"\u001b[39;49m\u001b[39m&nbsp;\u001b[39;49m\u001b[39m\"\u001b[39;49m)\n\u001b[1;32m    200\u001b[0m     d\u001b[39m.\u001b[39mupdate(kwargs)\n\u001b[1;32m    201\u001b[0m     \u001b[39mreturn\u001b[39;00m \u001b[39mself\u001b[39m\u001b[39m.\u001b[39mtemplate_html\u001b[39m.\u001b[39mrender(\n\u001b[1;32m    202\u001b[0m         \u001b[39m*\u001b[39m\u001b[39m*\u001b[39md,\n\u001b[1;32m    203\u001b[0m         html_table_tpl\u001b[39m=\u001b[39m\u001b[39mself\u001b[39m\u001b[39m.\u001b[39mtemplate_html_table,\n\u001b[1;32m    204\u001b[0m         html_style_tpl\u001b[39m=\u001b[39m\u001b[39mself\u001b[39m\u001b[39m.\u001b[39mtemplate_html_style,\n\u001b[1;32m    205\u001b[0m     )\n",
      "File \u001b[0;32m~/.pyenv/versions/3.11.0/lib/python3.11/site-packages/pandas/io/formats/style_render.py:163\u001b[0m, in \u001b[0;36mStylerRenderer._render\u001b[0;34m(self, sparse_index, sparse_columns, max_rows, max_cols, blank)\u001b[0m\n\u001b[1;32m    149\u001b[0m \u001b[39mdef\u001b[39;00m \u001b[39m_render\u001b[39m(\n\u001b[1;32m    150\u001b[0m     \u001b[39mself\u001b[39m,\n\u001b[1;32m    151\u001b[0m     sparse_index: \u001b[39mbool\u001b[39m,\n\u001b[0;32m   (...)\u001b[0m\n\u001b[1;32m    155\u001b[0m     blank: \u001b[39mstr\u001b[39m \u001b[39m=\u001b[39m \u001b[39m\"\u001b[39m\u001b[39m\"\u001b[39m,\n\u001b[1;32m    156\u001b[0m ):\n\u001b[1;32m    157\u001b[0m     \u001b[39m\"\"\"\u001b[39;00m\n\u001b[1;32m    158\u001b[0m \u001b[39m    Computes and applies styles and then generates the general render dicts.\u001b[39;00m\n\u001b[1;32m    159\u001b[0m \n\u001b[1;32m    160\u001b[0m \u001b[39m    Also extends the `ctx` and `ctx_index` attributes with those of concatenated\u001b[39;00m\n\u001b[1;32m    161\u001b[0m \u001b[39m    stylers for use within `_translate_latex`\u001b[39;00m\n\u001b[1;32m    162\u001b[0m \u001b[39m    \"\"\"\u001b[39;00m\n\u001b[0;32m--> 163\u001b[0m     \u001b[39mself\u001b[39;49m\u001b[39m.\u001b[39;49m_compute()\n\u001b[1;32m    164\u001b[0m     dx \u001b[39m=\u001b[39m \u001b[39mNone\u001b[39;00m\n\u001b[1;32m    165\u001b[0m     \u001b[39mif\u001b[39;00m \u001b[39mself\u001b[39m\u001b[39m.\u001b[39mconcatenated \u001b[39mis\u001b[39;00m \u001b[39mnot\u001b[39;00m \u001b[39mNone\u001b[39;00m:\n",
      "File \u001b[0;32m~/.pyenv/versions/3.11.0/lib/python3.11/site-packages/pandas/io/formats/style_render.py:251\u001b[0m, in \u001b[0;36mStylerRenderer._compute\u001b[0;34m(self)\u001b[0m\n\u001b[1;32m    249\u001b[0m r \u001b[39m=\u001b[39m \u001b[39mself\u001b[39m\n\u001b[1;32m    250\u001b[0m \u001b[39mfor\u001b[39;00m func, args, kwargs \u001b[39min\u001b[39;00m \u001b[39mself\u001b[39m\u001b[39m.\u001b[39m_todo:\n\u001b[0;32m--> 251\u001b[0m     r \u001b[39m=\u001b[39m func(\u001b[39mself\u001b[39;49m)(\u001b[39m*\u001b[39;49margs, \u001b[39m*\u001b[39;49m\u001b[39m*\u001b[39;49mkwargs)\n\u001b[1;32m    252\u001b[0m \u001b[39mreturn\u001b[39;00m r\n",
      "File \u001b[0;32m~/.pyenv/versions/3.11.0/lib/python3.11/site-packages/pandas/io/formats/style.py:1732\u001b[0m, in \u001b[0;36mStyler._apply\u001b[0;34m(self, func, axis, subset, **kwargs)\u001b[0m\n\u001b[1;32m   1730\u001b[0m         result \u001b[39m=\u001b[39m data\u001b[39m.\u001b[39mapply(func, axis\u001b[39m=\u001b[39m\u001b[39m0\u001b[39m, \u001b[39m*\u001b[39m\u001b[39m*\u001b[39mkwargs)\n\u001b[1;32m   1731\u001b[0m     \u001b[39melse\u001b[39;00m:\n\u001b[0;32m-> 1732\u001b[0m         result \u001b[39m=\u001b[39m data\u001b[39m.\u001b[39;49mT\u001b[39m.\u001b[39;49mapply(func, axis\u001b[39m=\u001b[39;49m\u001b[39m0\u001b[39;49m, \u001b[39m*\u001b[39;49m\u001b[39m*\u001b[39;49mkwargs)\u001b[39m.\u001b[39mT  \u001b[39m# see GH 42005\u001b[39;00m\n\u001b[1;32m   1734\u001b[0m \u001b[39mif\u001b[39;00m \u001b[39misinstance\u001b[39m(result, Series):\n\u001b[1;32m   1735\u001b[0m     \u001b[39mraise\u001b[39;00m \u001b[39mValueError\u001b[39;00m(\n\u001b[1;32m   1736\u001b[0m         \u001b[39mf\u001b[39m\u001b[39m\"\u001b[39m\u001b[39mFunction \u001b[39m\u001b[39m{\u001b[39;00m\u001b[39mrepr\u001b[39m(func)\u001b[39m}\u001b[39;00m\u001b[39m resulted in the apply method collapsing to a \u001b[39m\u001b[39m\"\u001b[39m\n\u001b[1;32m   1737\u001b[0m         \u001b[39mf\u001b[39m\u001b[39m\"\u001b[39m\u001b[39mSeries.\u001b[39m\u001b[39m\\n\u001b[39;00m\u001b[39mUsually, this is the result of the function returning a \u001b[39m\u001b[39m\"\u001b[39m\n\u001b[1;32m   1738\u001b[0m         \u001b[39mf\u001b[39m\u001b[39m\"\u001b[39m\u001b[39msingle value, instead of list-like.\u001b[39m\u001b[39m\"\u001b[39m\n\u001b[1;32m   1739\u001b[0m     )\n",
      "File \u001b[0;32m~/.pyenv/versions/3.11.0/lib/python3.11/site-packages/pandas/core/frame.py:9565\u001b[0m, in \u001b[0;36mDataFrame.apply\u001b[0;34m(self, func, axis, raw, result_type, args, **kwargs)\u001b[0m\n\u001b[1;32m   9554\u001b[0m \u001b[39mfrom\u001b[39;00m \u001b[39mpandas\u001b[39;00m\u001b[39m.\u001b[39;00m\u001b[39mcore\u001b[39;00m\u001b[39m.\u001b[39;00m\u001b[39mapply\u001b[39;00m \u001b[39mimport\u001b[39;00m frame_apply\n\u001b[1;32m   9556\u001b[0m op \u001b[39m=\u001b[39m frame_apply(\n\u001b[1;32m   9557\u001b[0m     \u001b[39mself\u001b[39m,\n\u001b[1;32m   9558\u001b[0m     func\u001b[39m=\u001b[39mfunc,\n\u001b[0;32m   (...)\u001b[0m\n\u001b[1;32m   9563\u001b[0m     kwargs\u001b[39m=\u001b[39mkwargs,\n\u001b[1;32m   9564\u001b[0m )\n\u001b[0;32m-> 9565\u001b[0m \u001b[39mreturn\u001b[39;00m op\u001b[39m.\u001b[39;49mapply()\u001b[39m.\u001b[39m__finalize__(\u001b[39mself\u001b[39m, method\u001b[39m=\u001b[39m\u001b[39m\"\u001b[39m\u001b[39mapply\u001b[39m\u001b[39m\"\u001b[39m)\n",
      "File \u001b[0;32m~/.pyenv/versions/3.11.0/lib/python3.11/site-packages/pandas/core/apply.py:746\u001b[0m, in \u001b[0;36mFrameApply.apply\u001b[0;34m(self)\u001b[0m\n\u001b[1;32m    743\u001b[0m \u001b[39melif\u001b[39;00m \u001b[39mself\u001b[39m\u001b[39m.\u001b[39mraw:\n\u001b[1;32m    744\u001b[0m     \u001b[39mreturn\u001b[39;00m \u001b[39mself\u001b[39m\u001b[39m.\u001b[39mapply_raw()\n\u001b[0;32m--> 746\u001b[0m \u001b[39mreturn\u001b[39;00m \u001b[39mself\u001b[39;49m\u001b[39m.\u001b[39;49mapply_standard()\n",
      "File \u001b[0;32m~/.pyenv/versions/3.11.0/lib/python3.11/site-packages/pandas/core/apply.py:873\u001b[0m, in \u001b[0;36mFrameApply.apply_standard\u001b[0;34m(self)\u001b[0m\n\u001b[1;32m    872\u001b[0m \u001b[39mdef\u001b[39;00m \u001b[39mapply_standard\u001b[39m(\u001b[39mself\u001b[39m):\n\u001b[0;32m--> 873\u001b[0m     results, res_index \u001b[39m=\u001b[39m \u001b[39mself\u001b[39;49m\u001b[39m.\u001b[39;49mapply_series_generator()\n\u001b[1;32m    875\u001b[0m     \u001b[39m# wrap results\u001b[39;00m\n\u001b[1;32m    876\u001b[0m     \u001b[39mreturn\u001b[39;00m \u001b[39mself\u001b[39m\u001b[39m.\u001b[39mwrap_results(results, res_index)\n",
      "File \u001b[0;32m~/.pyenv/versions/3.11.0/lib/python3.11/site-packages/pandas/core/apply.py:889\u001b[0m, in \u001b[0;36mFrameApply.apply_series_generator\u001b[0;34m(self)\u001b[0m\n\u001b[1;32m    886\u001b[0m \u001b[39mwith\u001b[39;00m option_context(\u001b[39m\"\u001b[39m\u001b[39mmode.chained_assignment\u001b[39m\u001b[39m\"\u001b[39m, \u001b[39mNone\u001b[39;00m):\n\u001b[1;32m    887\u001b[0m     \u001b[39mfor\u001b[39;00m i, v \u001b[39min\u001b[39;00m \u001b[39menumerate\u001b[39m(series_gen):\n\u001b[1;32m    888\u001b[0m         \u001b[39m# ignore SettingWithCopy here in case the user mutates\u001b[39;00m\n\u001b[0;32m--> 889\u001b[0m         results[i] \u001b[39m=\u001b[39m \u001b[39mself\u001b[39;49m\u001b[39m.\u001b[39;49mf(v)\n\u001b[1;32m    890\u001b[0m         \u001b[39mif\u001b[39;00m \u001b[39misinstance\u001b[39m(results[i], ABCSeries):\n\u001b[1;32m    891\u001b[0m             \u001b[39m# If we have a view on v, we need to make a copy because\u001b[39;00m\n\u001b[1;32m    892\u001b[0m             \u001b[39m#  series_generator will swap out the underlying data\u001b[39;00m\n\u001b[1;32m    893\u001b[0m             results[i] \u001b[39m=\u001b[39m results[i]\u001b[39m.\u001b[39mcopy(deep\u001b[39m=\u001b[39m\u001b[39mFalse\u001b[39;00m)\n",
      "Cell \u001b[0;32mIn[11], line 12\u001b[0m, in \u001b[0;36m<lambda>\u001b[0;34m(x)\u001b[0m\n\u001b[1;32m      9\u001b[0m     \u001b[39mreturn\u001b[39;00m color\n\u001b[1;32m     11\u001b[0m \u001b[39m# apply the function to rows where 'A' < 0 or 'B' < 0\u001b[39;00m\n\u001b[0;32m---> 12\u001b[0m highlighted_df \u001b[39m=\u001b[39m df\u001b[39m.\u001b[39mstyle\u001b[39m.\u001b[39mapply(\u001b[39mlambda\u001b[39;00m x: [highlight_negative(x\u001b[39m.\u001b[39;49mloc[row]) \u001b[39mif\u001b[39;49;00m (x\u001b[39m.\u001b[39;49mloc[row, \u001b[39m'\u001b[39;49m\u001b[39mA\u001b[39;49m\u001b[39m'\u001b[39;49m] \u001b[39m<\u001b[39;49m \u001b[39m0\u001b[39;49m \u001b[39mor\u001b[39;49;00m x\u001b[39m.\u001b[39;49mloc[row, \u001b[39m'\u001b[39;49m\u001b[39mB\u001b[39;49m\u001b[39m'\u001b[39;49m] \u001b[39m<\u001b[39;49m \u001b[39m0\u001b[39;49m) \u001b[39melse\u001b[39;49;00m [\u001b[39m'\u001b[39;49m\u001b[39m'\u001b[39;49m]\u001b[39m*\u001b[39;49m\u001b[39mlen\u001b[39;49m(x\u001b[39m.\u001b[39;49mcolumns) \u001b[39mfor\u001b[39;49;00m row \u001b[39min\u001b[39;49;00m x\u001b[39m.\u001b[39;49mindex], axis\u001b[39m=\u001b[39m\u001b[39m1\u001b[39m)\n\u001b[1;32m     14\u001b[0m \u001b[39m# display the highlighted DataFrame\u001b[39;00m\n\u001b[1;32m     15\u001b[0m highlighted_df\n",
      "Cell \u001b[0;32mIn[11], line 12\u001b[0m, in \u001b[0;36m<listcomp>\u001b[0;34m(.0)\u001b[0m\n\u001b[1;32m      9\u001b[0m     \u001b[39mreturn\u001b[39;00m color\n\u001b[1;32m     11\u001b[0m \u001b[39m# apply the function to rows where 'A' < 0 or 'B' < 0\u001b[39;00m\n\u001b[0;32m---> 12\u001b[0m highlighted_df \u001b[39m=\u001b[39m df\u001b[39m.\u001b[39mstyle\u001b[39m.\u001b[39mapply(\u001b[39mlambda\u001b[39;00m x: [highlight_negative(x\u001b[39m.\u001b[39mloc[row]) \u001b[39mif\u001b[39;00m (x\u001b[39m.\u001b[39;49mloc[row, \u001b[39m'\u001b[39;49m\u001b[39mA\u001b[39;49m\u001b[39m'\u001b[39;49m] \u001b[39m<\u001b[39m \u001b[39m0\u001b[39m \u001b[39mor\u001b[39;00m x\u001b[39m.\u001b[39mloc[row, \u001b[39m'\u001b[39m\u001b[39mB\u001b[39m\u001b[39m'\u001b[39m] \u001b[39m<\u001b[39m \u001b[39m0\u001b[39m) \u001b[39melse\u001b[39;00m [\u001b[39m'\u001b[39m\u001b[39m'\u001b[39m]\u001b[39m*\u001b[39m\u001b[39mlen\u001b[39m(x\u001b[39m.\u001b[39mcolumns) \u001b[39mfor\u001b[39;00m row \u001b[39min\u001b[39;00m x\u001b[39m.\u001b[39mindex], axis\u001b[39m=\u001b[39m\u001b[39m1\u001b[39m)\n\u001b[1;32m     14\u001b[0m \u001b[39m# display the highlighted DataFrame\u001b[39;00m\n\u001b[1;32m     15\u001b[0m highlighted_df\n",
      "File \u001b[0;32m~/.pyenv/versions/3.11.0/lib/python3.11/site-packages/pandas/core/indexing.py:1067\u001b[0m, in \u001b[0;36m_LocationIndexer.__getitem__\u001b[0;34m(self, key)\u001b[0m\n\u001b[1;32m   1065\u001b[0m     \u001b[39mif\u001b[39;00m \u001b[39mself\u001b[39m\u001b[39m.\u001b[39m_is_scalar_access(key):\n\u001b[1;32m   1066\u001b[0m         \u001b[39mreturn\u001b[39;00m \u001b[39mself\u001b[39m\u001b[39m.\u001b[39mobj\u001b[39m.\u001b[39m_get_value(\u001b[39m*\u001b[39mkey, takeable\u001b[39m=\u001b[39m\u001b[39mself\u001b[39m\u001b[39m.\u001b[39m_takeable)\n\u001b[0;32m-> 1067\u001b[0m     \u001b[39mreturn\u001b[39;00m \u001b[39mself\u001b[39;49m\u001b[39m.\u001b[39;49m_getitem_tuple(key)\n\u001b[1;32m   1068\u001b[0m \u001b[39melse\u001b[39;00m:\n\u001b[1;32m   1069\u001b[0m     \u001b[39m# we by definition only have the 0th axis\u001b[39;00m\n\u001b[1;32m   1070\u001b[0m     axis \u001b[39m=\u001b[39m \u001b[39mself\u001b[39m\u001b[39m.\u001b[39maxis \u001b[39mor\u001b[39;00m \u001b[39m0\u001b[39m\n",
      "File \u001b[0;32m~/.pyenv/versions/3.11.0/lib/python3.11/site-packages/pandas/core/indexing.py:1250\u001b[0m, in \u001b[0;36m_LocIndexer._getitem_tuple\u001b[0;34m(self, tup)\u001b[0m\n\u001b[1;32m   1247\u001b[0m     \u001b[39mreturn\u001b[39;00m \u001b[39mself\u001b[39m\u001b[39m.\u001b[39m_getitem_lowerdim(tup)\n\u001b[1;32m   1249\u001b[0m \u001b[39m# no multi-index, so validate all of the indexers\u001b[39;00m\n\u001b[0;32m-> 1250\u001b[0m tup \u001b[39m=\u001b[39m \u001b[39mself\u001b[39;49m\u001b[39m.\u001b[39;49m_validate_tuple_indexer(tup)\n\u001b[1;32m   1252\u001b[0m \u001b[39m# ugly hack for GH #836\u001b[39;00m\n\u001b[1;32m   1253\u001b[0m \u001b[39mif\u001b[39;00m \u001b[39mself\u001b[39m\u001b[39m.\u001b[39m_multi_take_opportunity(tup):\n",
      "File \u001b[0;32m~/.pyenv/versions/3.11.0/lib/python3.11/site-packages/pandas/core/indexing.py:869\u001b[0m, in \u001b[0;36m_LocationIndexer._validate_tuple_indexer\u001b[0;34m(self, key)\u001b[0m\n\u001b[1;32m    864\u001b[0m \u001b[39m@final\u001b[39m\n\u001b[1;32m    865\u001b[0m \u001b[39mdef\u001b[39;00m \u001b[39m_validate_tuple_indexer\u001b[39m(\u001b[39mself\u001b[39m, key: \u001b[39mtuple\u001b[39m) \u001b[39m-\u001b[39m\u001b[39m>\u001b[39m \u001b[39mtuple\u001b[39m:\n\u001b[1;32m    866\u001b[0m     \u001b[39m\"\"\"\u001b[39;00m\n\u001b[1;32m    867\u001b[0m \u001b[39m    Check the key for valid keys across my indexer.\u001b[39;00m\n\u001b[1;32m    868\u001b[0m \u001b[39m    \"\"\"\u001b[39;00m\n\u001b[0;32m--> 869\u001b[0m     key \u001b[39m=\u001b[39m \u001b[39mself\u001b[39;49m\u001b[39m.\u001b[39;49m_validate_key_length(key)\n\u001b[1;32m    870\u001b[0m     key \u001b[39m=\u001b[39m \u001b[39mself\u001b[39m\u001b[39m.\u001b[39m_expand_ellipsis(key)\n\u001b[1;32m    871\u001b[0m     \u001b[39mfor\u001b[39;00m i, k \u001b[39min\u001b[39;00m \u001b[39menumerate\u001b[39m(key):\n",
      "File \u001b[0;32m~/.pyenv/versions/3.11.0/lib/python3.11/site-packages/pandas/core/indexing.py:908\u001b[0m, in \u001b[0;36m_LocationIndexer._validate_key_length\u001b[0;34m(self, key)\u001b[0m\n\u001b[1;32m    906\u001b[0m             \u001b[39mraise\u001b[39;00m IndexingError(_one_ellipsis_message)\n\u001b[1;32m    907\u001b[0m         \u001b[39mreturn\u001b[39;00m \u001b[39mself\u001b[39m\u001b[39m.\u001b[39m_validate_key_length(key)\n\u001b[0;32m--> 908\u001b[0m     \u001b[39mraise\u001b[39;00m IndexingError(\u001b[39m\"\u001b[39m\u001b[39mToo many indexers\u001b[39m\u001b[39m\"\u001b[39m)\n\u001b[1;32m    909\u001b[0m \u001b[39mreturn\u001b[39;00m key\n",
      "\u001b[0;31mIndexingError\u001b[0m: Too many indexers"
     ]
    },
    {
     "data": {
      "text/plain": [
       "<pandas.io.formats.style.Styler at 0x1446a9290>"
      ]
     },
     "execution_count": 11,
     "metadata": {},
     "output_type": "execute_result"
    }
   ],
   "source": [
    "import pandas as pd\n",
    "\n",
    "# create a sample DataFrame\n",
    "df = pd.DataFrame({'A': [1, -2, 3, -4], 'B': [5, 6, -7, 8], 'C': [-9, 10, 11, 12]})\n",
    "\n",
    "# define a function to highlight negative values\n",
    "def highlight_negative(val):\n",
    "    color = 'background-color: yellow' if val < 0 else ''\n",
    "    return color\n",
    "\n",
    "# apply the function to rows where 'A' < 0 or 'B' < 0\n",
    "highlighted_df = df.style.apply(lambda x: [highlight_negative(x.loc[row]) if (x.loc[row, 'A'] < 0 or x.loc[row, 'B'] < 0) else ['']*len(x.columns) for row in x.index], axis=1)\n",
    "\n",
    "# display the highlighted DataFrame\n",
    "highlighted_df\n"
   ]
  }
 ],
 "metadata": {
  "kernelspec": {
   "display_name": "Python 3",
   "language": "python",
   "name": "python3"
  },
  "language_info": {
   "codemirror_mode": {
    "name": "ipython",
    "version": 3
   },
   "file_extension": ".py",
   "mimetype": "text/x-python",
   "name": "python",
   "nbconvert_exporter": "python",
   "pygments_lexer": "ipython3",
   "version": "3.11.0"
  },
  "orig_nbformat": 4
 },
 "nbformat": 4,
 "nbformat_minor": 2
}
