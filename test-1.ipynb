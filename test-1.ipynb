{
 "cells": [
  {
   "cell_type": "code",
   "execution_count": 6,
   "metadata": {},
   "outputs": [
    {
     "data": {
      "text/html": [
       "<style type=\"text/css\">\n",
       "#T_85a74_row1_col2, #T_85a74_row3_col2 {\n",
       "  background-color: green;\n",
       "}\n",
       "</style>\n",
       "<table id=\"T_85a74\">\n",
       "  <thead>\n",
       "    <tr>\n",
       "      <th class=\"blank level0\" >&nbsp;</th>\n",
       "      <th id=\"T_85a74_level0_col0\" class=\"col_heading level0 col0\" >variable</th>\n",
       "      <th id=\"T_85a74_level0_col1\" class=\"col_heading level0 col1\" >units</th>\n",
       "      <th id=\"T_85a74_level0_col2\" class=\"col_heading level0 col2\" >value</th>\n",
       "    </tr>\n",
       "  </thead>\n",
       "  <tbody>\n",
       "    <tr>\n",
       "      <th id=\"T_85a74_level0_row0\" class=\"row_heading level0 row0\" >0</th>\n",
       "      <td id=\"T_85a74_row0_col0\" class=\"data row0 col0\" >var1</td>\n",
       "      <td id=\"T_85a74_row0_col1\" class=\"data row0 col1\" >unit1</td>\n",
       "      <td id=\"T_85a74_row0_col2\" class=\"data row0 col2\" >1</td>\n",
       "    </tr>\n",
       "    <tr>\n",
       "      <th id=\"T_85a74_level0_row1\" class=\"row_heading level0 row1\" >1</th>\n",
       "      <td id=\"T_85a74_row1_col0\" class=\"data row1 col0\" >var2</td>\n",
       "      <td id=\"T_85a74_row1_col1\" class=\"data row1 col1\" >unit2</td>\n",
       "      <td id=\"T_85a74_row1_col2\" class=\"data row1 col2\" >-2</td>\n",
       "    </tr>\n",
       "    <tr>\n",
       "      <th id=\"T_85a74_level0_row2\" class=\"row_heading level0 row2\" >2</th>\n",
       "      <td id=\"T_85a74_row2_col0\" class=\"data row2 col0\" >var3</td>\n",
       "      <td id=\"T_85a74_row2_col1\" class=\"data row2 col1\" >unit3</td>\n",
       "      <td id=\"T_85a74_row2_col2\" class=\"data row2 col2\" >3</td>\n",
       "    </tr>\n",
       "    <tr>\n",
       "      <th id=\"T_85a74_level0_row3\" class=\"row_heading level0 row3\" >3</th>\n",
       "      <td id=\"T_85a74_row3_col0\" class=\"data row3 col0\" >var4</td>\n",
       "      <td id=\"T_85a74_row3_col1\" class=\"data row3 col1\" >unit4</td>\n",
       "      <td id=\"T_85a74_row3_col2\" class=\"data row3 col2\" >-4</td>\n",
       "    </tr>\n",
       "    <tr>\n",
       "      <th id=\"T_85a74_level0_row4\" class=\"row_heading level0 row4\" >4</th>\n",
       "      <td id=\"T_85a74_row4_col0\" class=\"data row4 col0\" >var5</td>\n",
       "      <td id=\"T_85a74_row4_col1\" class=\"data row4 col1\" >unit5</td>\n",
       "      <td id=\"T_85a74_row4_col2\" class=\"data row4 col2\" >5</td>\n",
       "    </tr>\n",
       "  </tbody>\n",
       "</table>\n"
      ],
      "text/plain": [
       "<pandas.io.formats.style.Styler at 0x11f0f5910>"
      ]
     },
     "execution_count": 6,
     "metadata": {},
     "output_type": "execute_result"
    }
   ],
   "source": [
    "import pandas as pd\n",
    "\n",
    "# create a sample DataFrame\n",
    "df = pd.DataFrame({'variable': ['var1', 'var2', 'var3', 'var4', 'var5'],\n",
    "                   'units': ['unit1', 'unit2', 'unit3', 'unit4', 'unit5'],\n",
    "                   'value': [1, -2, 3, -4, 5]})\n",
    "\n",
    "# define a function to highlight rows where 'value' < 0\n",
    "def highlight_negative(value):\n",
    "    if value < 0:\n",
    "        return 'background-color: green'\n",
    "    else:\n",
    "        return ''\n",
    "\n",
    "# apply the function to the DataFrame\n",
    "highlighted_df = df.style.applymap(highlight_negative, subset=['value'])\n",
    "\n",
    "# display the highlighted DataFrame\n",
    "highlighted_df\n"
   ]
  }
 ],
 "metadata": {
  "kernelspec": {
   "display_name": "Python 3",
   "language": "python",
   "name": "python3"
  },
  "language_info": {
   "codemirror_mode": {
    "name": "ipython",
    "version": 3
   },
   "file_extension": ".py",
   "mimetype": "text/x-python",
   "name": "python",
   "nbconvert_exporter": "python",
   "pygments_lexer": "ipython3",
   "version": "3.11.0"
  },
  "orig_nbformat": 4
 },
 "nbformat": 4,
 "nbformat_minor": 2
}
