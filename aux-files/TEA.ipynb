{
 "cells": [
  {
   "cell_type": "code",
   "execution_count": 2,
   "metadata": {},
   "outputs": [],
   "source": [
    "import streamlit as st\n",
    "import pandas as pd\n",
    "import numpy as np\n",
    "from decimal import *\n"
   ]
  },
  {
   "cell_type": "code",
   "execution_count": 5,
   "metadata": {},
   "outputs": [
    {
     "name": "stderr",
     "output_type": "stream",
     "text": [
      "2023-01-05 14:52:47.806 \n",
      "  \u001b[33m\u001b[1mWarning:\u001b[0m to view this Streamlit app on a browser, run it with the following\n",
      "  command:\n",
      "\n",
      "    streamlit run /Users/bikash/.pyenv/versions/3.11.0/lib/python3.11/site-packages/ipykernel_launcher.py [ARGUMENTS]\n"
     ]
    },
    {
     "data": {
      "text/plain": [
       "DeltaGenerator(_root_container=0, _provided_cursor=None, _parent=None, _block_type=None, _form_data=None)"
      ]
     },
     "execution_count": 5,
     "metadata": {},
     "output_type": "execute_result"
    }
   ],
   "source": [
    "# function for converting float64 to decimal in python\n",
    "def decimal_from_value(value):\n",
    "    return Decimal(value)\n",
    "\n",
    "# CSS to inject contained in a string\n",
    "hide_dataframe_row_index = \"\"\"\n",
    "            <style>\n",
    "            .row_heading.level0 {display:none}\n",
    "            .blank {display:none}\n",
    "            </style>\n",
    "            \"\"\"\n",
    "st.markdown(hide_dataframe_row_index, unsafe_allow_html=True)\n",
    "### Inject CSS with Markdown\n"
   ]
  },
  {
   "attachments": {},
   "cell_type": "markdown",
   "metadata": {},
   "source": [
    "Household Profile"
   ]
  },
  {
   "cell_type": "code",
   "execution_count": 6,
   "metadata": {},
   "outputs": [
    {
     "name": "stderr",
     "output_type": "stream",
     "text": [
      "2023-01-05 14:57:16.846 Session state does not function when running a script without `streamlit run`\n"
     ]
    }
   ],
   "source": [
    "# Data\n",
    "state_name = pd.read_csv(\"states.csv\")\n",
    "\n",
    "\n",
    "# Streamlit \n",
    "with st.sidebar:\n",
    "\tst.header(\"Household Profile\")\n",
    "\tadults = st.slider('Adults', min_value=1, max_value=5, value=None, step=1)  # slider widget to select family members\n",
    "\tst.write('Number of Adults in the Household -', adults)\n",
    "\tchildren = st.slider('Children', min_value=0, max_value=5, value=None, step=1)  # slider widget to select family members\n",
    "\tst.write('Number of Children in the Household -', children)\n",
    "\tst.write('*Total number of persons in the Household* -', adults+children)\n",
    "\tarea_select =  st.selectbox('Area Type',('Urban','Rural'))\n",
    "\tsoc_eco_select= st.selectbox('Socio-Economic Status',('Lower','Middle','Higher'))\n",
    "\tstate_select = st.selectbox('State',state_name)\n"
   ]
  },
  {
   "cell_type": "code",
   "execution_count": null,
   "metadata": {},
   "outputs": [],
   "source": []
  },
  {
   "cell_type": "code",
   "execution_count": 3,
   "metadata": {},
   "outputs": [],
   "source": [
    "df_base_cf = pd.read_excel(\"cook-fuel-stove.xlsx\",sheet_name=\"baseline\") ##area_select\n",
    "df_base_cf2 = df_base_cf.loc[(df_base_cf['Area'] == 'Urban') & (df_base_cf['Socio-Economic'] == 'Lower')]\n",
    "df_base_cf1 = df_base_cf2[\"Fuel\"].drop_duplicates()\n"
   ]
  }
 ],
 "metadata": {
  "kernelspec": {
   "display_name": "Python 3",
   "language": "python",
   "name": "python3"
  },
  "language_info": {
   "codemirror_mode": {
    "name": "ipython",
    "version": 3
   },
   "file_extension": ".py",
   "mimetype": "text/x-python",
   "name": "python",
   "nbconvert_exporter": "python",
   "pygments_lexer": "ipython3",
   "version": "3.11.0 (main, Nov 13 2022, 20:07:56) [Clang 14.0.0 (clang-1400.0.29.201)]"
  },
  "orig_nbformat": 4,
  "vscode": {
   "interpreter": {
    "hash": "eb523c0c79805b660c19ed62ff64991ff439136af7ef2c18c8f818d45f2b49ac"
   }
  }
 },
 "nbformat": 4,
 "nbformat_minor": 2
}
