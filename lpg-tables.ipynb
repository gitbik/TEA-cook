{
 "cells": [
  {
   "cell_type": "code",
   "execution_count": 1,
   "metadata": {},
   "outputs": [],
   "source": [
    "import tabula"
   ]
  },
  {
   "cell_type": "code",
   "execution_count": 5,
   "metadata": {},
   "outputs": [],
   "source": [
    "# Path to the PDF file\n",
    "mopng_17 = \"D:\\\\00-Bikash\\\\01-cooking\\\\01-analysis-files\\TEA-cook\\mopng-lpg-tables\\\\2017-18.pdf\"\n",
    "mopng_18 = \"D:\\\\00-Bikash\\\\01-cooking\\\\01-analysis-files\\TEA-cook\\mopng-lpg-tables\\\\2018-19.pdf\"\n",
    "mopng_19 = \"D:\\\\00-Bikash\\\\01-cooking\\\\01-analysis-files\\TEA-cook\\mopng-lpg-tables\\\\2019-20.pdf\"\n",
    "mopng_20 = \"D:\\\\00-Bikash\\\\01-cooking\\\\01-analysis-files\\TEA-cook\\mopng-lpg-tables\\\\2020-21.pdf\"\n",
    "mopng_21 = \"D:\\\\00-Bikash\\\\01-cooking\\\\01-analysis-files\\TEA-cook\\mopng-lpg-tables\\\\2021-22.pdf\"\n",
    "\n",
    "\n",
    "\n",
    "# Extract tables from the PDF file\n",
    "tables_17 = tabula.read_pdf(mopng_17, pages='all')\n",
    "tables_18 = tabula.read_pdf(mopng_18, pages='all')\n",
    "tables_19 = tabula.read_pdf(mopng_19, pages='all')\n",
    "tables_20 = tabula.read_pdf(mopng_20, pages='all')\n",
    "tables_21 = tabula.read_pdf(mopng_21, pages='all')\n"
   ]
  },
  {
   "cell_type": "code",
   "execution_count": 7,
   "metadata": {},
   "outputs": [],
   "source": [
    "# Save the tables as CSV files\n",
    "for i, table in enumerate(tables_17):\n",
    "    table.to_csv(f\"table_17_{i}.csv\", index=False)\n",
    "\n",
    "\n",
    "for i, table in enumerate(tables_18):\n",
    "    table.to_csv(f\"table_18_{i}.csv\", index=False)\n",
    "\n",
    "\n",
    "for i, table in enumerate(tables_19):\n",
    "    table.to_csv(f\"table_19_{i}.csv\", index=False)\n",
    "\n",
    "for i, table in enumerate(tables_20):\n",
    "    table.to_csv(f\"table_20_{i}.csv\", index=False)\n",
    "\n",
    "for i, table in enumerate(tables_21):\n",
    "    table.to_csv(f\"table_21_{i}.csv\", index=False)\n",
    "\n",
    "\n"
   ]
  }
 ],
 "metadata": {
  "kernelspec": {
   "display_name": "base",
   "language": "python",
   "name": "python3"
  },
  "language_info": {
   "codemirror_mode": {
    "name": "ipython",
    "version": 3
   },
   "file_extension": ".py",
   "mimetype": "text/x-python",
   "name": "python",
   "nbconvert_exporter": "python",
   "pygments_lexer": "ipython3",
   "version": "3.9.12"
  },
  "orig_nbformat": 4
 },
 "nbformat": 4,
 "nbformat_minor": 2
}
